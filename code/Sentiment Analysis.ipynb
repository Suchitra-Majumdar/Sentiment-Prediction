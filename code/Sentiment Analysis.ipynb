{
 "cells": [
  {
   "cell_type": "code",
   "execution_count": 55,
   "metadata": {},
   "outputs": [],
   "source": [
    "import numpy as np\n",
    "import pandas as pd\n",
    "import seaborn as sns\n",
    "from sklearn.metrics import f1_score\n",
    "from sklearn.model_selection import train_test_split\n",
    "from sklearn.linear_model import LogisticRegression\n",
    "from sklearn.tree import DecisionTreeClassifier\n",
    "from sklearn.ensemble import GradientBoostingClassifier ,RandomForestClassifier, ExtraTreesClassifier\n",
    "from xgboost import XGBClassifier\n",
    "from sklearn.linear_model import PassiveAggressiveClassifier \n",
    "from sklearn.linear_model import SGDClassifier\n",
    "from sklearn.feature_extraction.text import TfidfVectorizer\n",
    "from sklearn.feature_extraction.text import CountVectorizer\n",
    "from sklearn.naive_bayes import MultinomialNB\n",
    "from sklearn.naive_bayes import GaussianNB\n",
    "from sklearn.multiclass import OneVsRestClassifier\n",
    "from imblearn.over_sampling import SMOTE\n",
    "import matplotlib.pyplot as plt"
   ]
  },
  {
   "cell_type": "code",
   "execution_count": 5,
   "metadata": {},
   "outputs": [],
   "source": [
    "df = pd.read_csv(\"../data/TRAIN.csv\")"
   ]
  },
  {
   "cell_type": "code",
   "execution_count": 6,
   "metadata": {},
   "outputs": [
    {
     "data": {
      "text/html": [
       "<div>\n",
       "<style scoped>\n",
       "    .dataframe tbody tr th:only-of-type {\n",
       "        vertical-align: middle;\n",
       "    }\n",
       "\n",
       "    .dataframe tbody tr th {\n",
       "        vertical-align: top;\n",
       "    }\n",
       "\n",
       "    .dataframe thead th {\n",
       "        text-align: right;\n",
       "    }\n",
       "</style>\n",
       "<table border=\"1\" class=\"dataframe\">\n",
       "  <thead>\n",
       "    <tr style=\"text-align: right;\">\n",
       "      <th></th>\n",
       "      <th>id</th>\n",
       "      <th>text</th>\n",
       "      <th>category</th>\n",
       "    </tr>\n",
       "  </thead>\n",
       "  <tbody>\n",
       "    <tr>\n",
       "      <th>0</th>\n",
       "      <td>3973</td>\n",
       "      <td>1047 6700 4178 2912 183 6700</td>\n",
       "      <td>0</td>\n",
       "    </tr>\n",
       "    <tr>\n",
       "      <th>1</th>\n",
       "      <td>4462</td>\n",
       "      <td>4035 4563 1994 154 5373 4956 6035 4393 4017 40...</td>\n",
       "      <td>1</td>\n",
       "    </tr>\n",
       "    <tr>\n",
       "      <th>2</th>\n",
       "      <td>2889</td>\n",
       "      <td>5035 7685 3139 4407 254 584 6589 8518 3078</td>\n",
       "      <td>0</td>\n",
       "    </tr>\n",
       "    <tr>\n",
       "      <th>3</th>\n",
       "      <td>3457</td>\n",
       "      <td>1047 2540 2578 6700 2242 230 3771 4676 5881 64...</td>\n",
       "      <td>0</td>\n",
       "    </tr>\n",
       "    <tr>\n",
       "      <th>4</th>\n",
       "      <td>1555</td>\n",
       "      <td>7685 5868 237 6794 3078</td>\n",
       "      <td>0</td>\n",
       "    </tr>\n",
       "  </tbody>\n",
       "</table>\n",
       "</div>"
      ],
      "text/plain": [
       "     id                                               text  category\n",
       "0  3973                       1047 6700 4178 2912 183 6700         0\n",
       "1  4462  4035 4563 1994 154 5373 4956 6035 4393 4017 40...         1\n",
       "2  2889         5035 7685 3139 4407 254 584 6589 8518 3078         0\n",
       "3  3457  1047 2540 2578 6700 2242 230 3771 4676 5881 64...         0\n",
       "4  1555                            7685 5868 237 6794 3078         0"
      ]
     },
     "execution_count": 6,
     "metadata": {},
     "output_type": "execute_result"
    }
   ],
   "source": [
    "df.head()"
   ]
  },
  {
   "cell_type": "code",
   "execution_count": 8,
   "metadata": {},
   "outputs": [
    {
     "data": {
      "text/plain": [
       "<AxesSubplot:xlabel='category', ylabel='count'>"
      ]
     },
     "execution_count": 8,
     "metadata": {},
     "output_type": "execute_result"
    },
    {
     "data": {
      "image/png": "[encoded data removed]",
      "text/plain": [
       "<Figure size 432x288 with 1 Axes>"
      ]
     },
     "metadata": {
      "needs_background": "light"
     },
     "output_type": "display_data"
    }
   ],
   "source": [
    "sns.countplot(x='category',data=df)"
   ]
  },
  {
   "cell_type": "markdown",
   "metadata": {},
   "source": [
    "Its highly imbalanced"
   ]
  },
  {
   "cell_type": "code",
   "execution_count": 9,
   "metadata": {},
   "outputs": [],
   "source": [
    "X = df['text']\n",
    "y = df['category']"
   ]
  },
  {
   "cell_type": "code",
   "execution_count": 39,
   "metadata": {},
   "outputs": [],
   "source": [
    "def run_model(dataframe,target,vectorizer,model):\n",
    "    X = dataframe\n",
    "    y = target\n",
    "    X_train, X_test,y_train, y_test = train_test_split(X,y, test_size=0.2, random_state=42)\n",
    "    vector = vectorizer(max_df=0.91, min_df=0.01)\n",
    "    \n",
    "    ## vectorization\n",
    "    X_train_vector = vector.fit_transform(X_train).toarray()\n",
    "    X_test_vector = vector.transform(X_test).toarray()\n",
    "    \n",
    "    #model training and prediction\n",
    "    model.fit(X_train_vector,y_train)\n",
    "    prediction = model.predict(X_test_vector)\n",
    "    \n",
    "    # f1 score\n",
    "    f1 = f1_score(y_test,prediction,average='weighted')\n",
    "    print(f\"f1_score: {f1}\")\n",
    "    print(f\"Model:{model} using {vectorizer}\")\n",
    "    print(\"*\"*40)\n",
    "    \n",
    "    \n",
    "    \n",
    "    "
   ]
  },
  {
   "cell_type": "code",
   "execution_count": 56,
   "metadata": {},
   "outputs": [
    {
     "name": "stdout",
     "output_type": "stream",
     "text": [
      "f1_score: 0.95997910280863\n",
      "Model:MultinomialNB() using <class 'sklearn.feature_extraction.text.TfidfVectorizer'>\n",
      "****************************************\n",
      "f1_score: 0.9175473217881596\n",
      "Model:GaussianNB() using <class 'sklearn.feature_extraction.text.TfidfVectorizer'>\n",
      "****************************************\n",
      "f1_score: 0.9707653839284488\n",
      "Model:LogisticRegression() using <class 'sklearn.feature_extraction.text.TfidfVectorizer'>\n",
      "****************************************\n",
      "f1_score: 0.987259479650784\n",
      "Model:SGDClassifier() using <class 'sklearn.feature_extraction.text.TfidfVectorizer'>\n",
      "****************************************\n",
      "f1_score: 0.9674213748305995\n",
      "Model:RandomForestClassifier() using <class 'sklearn.feature_extraction.text.TfidfVectorizer'>\n",
      "****************************************\n",
      "f1_score: 0.9830126395343787\n",
      "Model:PassiveAggressiveClassifier() using <class 'sklearn.feature_extraction.text.TfidfVectorizer'>\n",
      "****************************************\n"
     ]
    },
    {
     "name": "stderr",
     "output_type": "stream",
     "text": [
      "C:\\ProgramData\\Anaconda3\\lib\\site-packages\\xgboost\\sklearn.py:888: UserWarning: The use of label encoder in XGBClassifier is deprecated and will be removed in a future release. To remove this warning, do the following: 1) Pass option use_label_encoder=False when constructing XGBClassifier object; and 2) Encode your labels (y) as integers starting with 0, i.e. 0, 1, 2, ..., [num_class - 1].\n",
      "  warnings.warn(label_encoder_deprecation_msg, UserWarning)\n"
     ]
    },
    {
     "name": "stdout",
     "output_type": "stream",
     "text": [
      "[10:27:47] WARNING: C:/Users/Administrator/workspace/xgboost-win64_release_1.3.0/src/learner.cc:1061: Starting in XGBoost 1.3.0, the default evaluation metric used with the objective 'binary:logistic' was changed from 'error' to 'logloss'. Explicitly set eval_metric if you'd like to restore the old behavior.\n",
      "f1_score: 0.9751322470632815\n",
      "Model:XGBClassifier(base_score=0.5, booster='gbtree', colsample_bylevel=1,\n",
      "              colsample_bynode=1, colsample_bytree=1, gamma=0, gpu_id=-1,\n",
      "              importance_type='gain', interaction_constraints='',\n",
      "              learning_rate=0.300000012, max_delta_step=0, max_depth=6,\n",
      "              min_child_weight=1, missing=nan, monotone_constraints='()',\n",
      "              n_estimators=100, n_jobs=4, num_parallel_tree=1, random_state=0,\n",
      "              reg_alpha=0, reg_lambda=1, scale_pos_weight=1, subsample=1,\n",
      "              tree_method='exact', validate_parameters=1, verbosity=None) using <class 'sklearn.feature_extraction.text.TfidfVectorizer'>\n",
      "****************************************\n",
      "f1_score: 0.9863411828158601\n",
      "Model:MultinomialNB() using <class 'sklearn.feature_extraction.text.CountVectorizer'>\n",
      "****************************************\n",
      "f1_score: 0.9175473217881596\n",
      "Model:GaussianNB() using <class 'sklearn.feature_extraction.text.CountVectorizer'>\n",
      "****************************************\n",
      "f1_score: 0.9830126395343787\n",
      "Model:LogisticRegression() using <class 'sklearn.feature_extraction.text.CountVectorizer'>\n",
      "****************************************\n",
      "f1_score: 0.9859071089721044\n",
      "Model:SGDClassifier() using <class 'sklearn.feature_extraction.text.CountVectorizer'>\n",
      "****************************************\n",
      "f1_score: 0.9739020267492756\n",
      "Model:RandomForestClassifier() using <class 'sklearn.feature_extraction.text.CountVectorizer'>\n",
      "****************************************\n",
      "f1_score: 0.978536144424923\n",
      "Model:PassiveAggressiveClassifier() using <class 'sklearn.feature_extraction.text.CountVectorizer'>\n",
      "****************************************\n"
     ]
    },
    {
     "name": "stderr",
     "output_type": "stream",
     "text": [
      "C:\\ProgramData\\Anaconda3\\lib\\site-packages\\xgboost\\sklearn.py:888: UserWarning: The use of label encoder in XGBClassifier is deprecated and will be removed in a future release. To remove this warning, do the following: 1) Pass option use_label_encoder=False when constructing XGBClassifier object; and 2) Encode your labels (y) as integers starting with 0, i.e. 0, 1, 2, ..., [num_class - 1].\n",
      "  warnings.warn(label_encoder_deprecation_msg, UserWarning)\n"
     ]
    },
    {
     "name": "stdout",
     "output_type": "stream",
     "text": [
      "[10:27:53] WARNING: C:/Users/Administrator/workspace/xgboost-win64_release_1.3.0/src/learner.cc:1061: Starting in XGBoost 1.3.0, the default evaluation metric used with the objective 'binary:logistic' was changed from 'error' to 'logloss'. Explicitly set eval_metric if you'd like to restore the old behavior.\n",
      "f1_score: 0.9787657994179734\n",
      "Model:XGBClassifier(base_score=0.5, booster='gbtree', colsample_bylevel=1,\n",
      "              colsample_bynode=1, colsample_bytree=1, gamma=0, gpu_id=-1,\n",
      "              importance_type='gain', interaction_constraints='',\n",
      "              learning_rate=0.300000012, max_delta_step=0, max_depth=6,\n",
      "              min_child_weight=1, missing=nan, monotone_constraints='()',\n",
      "              n_estimators=100, n_jobs=4, num_parallel_tree=1, random_state=0,\n",
      "              reg_alpha=0, reg_lambda=1, scale_pos_weight=1, subsample=1,\n",
      "              tree_method='exact', validate_parameters=1, verbosity=None) using <class 'sklearn.feature_extraction.text.CountVectorizer'>\n",
      "****************************************\n"
     ]
    }
   ],
   "source": [
    "\n",
    "models = [MultinomialNB(), GaussianNB(),LogisticRegression(),SGDClassifier(), RandomForestClassifier(),PassiveAggressiveClassifier(),XGBClassifier()]\n",
    "vectorizers = [TfidfVectorizer,CountVectorizer]\n",
    "for vectorizer in vectorizers:\n",
    "    for model in models:\n",
    "        run_model(X,y,vectorizer,model)\n",
    "        \n",
    "        \n",
    "        "
   ]
  },
  {
   "cell_type": "code",
   "execution_count": 66,
   "metadata": {},
   "outputs": [
    {
     "name": "stdout",
     "output_type": "stream",
     "text": [
      "f1_score: 0.9848399580383786\n"
     ]
    }
   ],
   "source": [
    "# pas_clf = PassiveAggressiveClassifier(C = 0.1, max_iter=1000,warm_start=True,shuffle=False,tol=None,random_state = 0)\n",
    "pas_clf = PassiveAggressiveClassifier(class_weight={0:0.7,1:0.3},random_state=0)\n",
    "vector = TfidfVectorizer(max_df=0.91, min_df=0.01)\n",
    "X_train, X_test,y_train, y_test = train_test_split(X,y, test_size=0.2, random_state=42)\n",
    "X_train_vector = vector.fit_transform(X_train).toarray()\n",
    "X_test_vector = vector.transform(X_test).toarray()\n",
    "pas_clf.fit(X_train_vector, y_train)\n",
    "pas_clf_pred = pas_clf.predict(X_test_vector)\n",
    "score = f1_score(y_test, pas_clf_pred,average='weighted')\n",
    "print(\"f1_score:\",score)"
   ]
  },
  {
   "cell_type": "code",
   "execution_count": 71,
   "metadata": {},
   "outputs": [
    {
     "name": "stdout",
     "output_type": "stream",
     "text": [
      "f1_score: 0.9854112717665362\n"
     ]
    }
   ],
   "source": [
    "pas_clf = PassiveAggressiveClassifier(C = 0.1, max_iter=1000,warm_start=True,shuffle=False,tol=None,random_state = 0)\n",
    "# pas_clf = PassiveAggressiveClassifier(random_state=0)\n",
    "vector = CountVectorizer()\n",
    "X_train, X_test,y_train, y_test = train_test_split(X,y, test_size=0.2, random_state=42)\n",
    "X_train_vector = vector.fit_transform(X_train).toarray()\n",
    "X_test_vector = vector.transform(X_test).toarray()\n",
    "pas_clf.fit(X_train_vector, y_train)\n",
    "pas_clf_pred = pas_clf.predict(X_test_vector)\n",
    "score = f1_score(y_test, pas_clf_pred,average='weighted')\n",
    "print(\"f1_score:\",score)"
   ]
  },
  {
   "cell_type": "code",
   "execution_count": 72,
   "metadata": {},
   "outputs": [
    {
     "name": "stdout",
     "output_type": "stream",
     "text": [
      "f1_score: 0.987259479650784\n"
     ]
    }
   ],
   "source": [
    "# pas_clf = PassiveAggressiveClassifier(C = 0.1, max_iter=1000,warm_start=True,shuffle=False,tol=None,random_state = 0)\n",
    "pas_clf = PassiveAggressiveClassifier(random_state=0)\n",
    "vector = CountVectorizer()\n",
    "X_train, X_test,y_train, y_test = train_test_split(X,y, test_size=0.2, random_state=42)\n",
    "X_train_vector = vector.fit_transform(X_train).toarray()\n",
    "X_test_vector = vector.transform(X_test).toarray()\n",
    "pas_clf.fit(X_train_vector, y_train)\n",
    "pas_clf_pred = pas_clf.predict(X_test_vector)\n",
    "score = f1_score(y_test, pas_clf_pred,average='weighted')\n",
    "print(\"f1_score:\",score)"
   ]
  },
  {
   "cell_type": "code",
   "execution_count": 84,
   "metadata": {},
   "outputs": [
    {
     "name": "stdout",
     "output_type": "stream",
     "text": [
      "f1_score: 0.9836202081746636\n"
     ]
    }
   ],
   "source": [
    "# pas_clf = PassiveAggressiveClassifier(C = 0.1, max_iter=1000,warm_start=True,shuffle=False,tol=None,random_state = 0)\n",
    "pas_clf = SGDClassifier(random_state=0)\n",
    "vector = TfidfVectorizer(max_df=0.91, min_df=0.01,max_features=1000)\n",
    "X_train, X_test,y_train, y_test = train_test_split(X,y, test_size=0.2, random_state=42)\n",
    "X_train_vector = vector.fit_transform(X_train).toarray()\n",
    "X_test_vector = vector.transform(X_test).toarray()\n",
    "pas_clf.fit(X_train_vector, y_train)\n",
    "pas_clf_pred = pas_clf.predict(X_test_vector)\n",
    "score = f1_score(y_test, pas_clf_pred,average='weighted')\n",
    "print(\"f1_score:\",score)"
   ]
  },
  {
   "cell_type": "code",
   "execution_count": 77,
   "metadata": {},
   "outputs": [
    {
     "name": "stdout",
     "output_type": "stream",
     "text": [
      "score: 0.9830126395343787\n"
     ]
    }
   ],
   "source": [
    "from sklearn.model_selection import train_test_split as tts\n",
    "from sklearn.linear_model import LogisticRegression\n",
    "from sklearn.linear_model import PassiveAggressiveClassifier \n",
    "from sklearn.linear_model import SGDClassifier\n",
    "import xgboost as xgb\n",
    "from sklearn.naive_bayes import GaussianNB \n",
    "gnb = GaussianNB() \n",
    "\n",
    "# X_train, X_test,y_train, y_test = tts(X,y, test_size=0.10, random_state=43)\n",
    "\n",
    "from sklearn.ensemble import RandomForestClassifier\n",
    "from sklearn.metrics import f1_score, precision_score\n",
    "\n",
    "pas_clf = PassiveAggressiveClassifier(C = 0.1, max_iter=1000,warm_start=True,shuffle=False,tol=None,random_state = 0)\n",
    "pas_clf = PassiveAggressiveClassifier()\n",
    "pas_clf.fit(X_train_vector, y_train)\n",
    "pas_clf_pred = pas_clf.predict(X_test_vector)\n",
    "score = f1_score(y_test, pas_clf_pred,average=\"weighted\")\n",
    "print(\"score:\",score)"
   ]
  },
  {
   "cell_type": "code",
   "execution_count": 81,
   "metadata": {},
   "outputs": [],
   "source": [
    "df_test = pd.read_csv('../data/test.csv')\n"
   ]
  },
  {
   "cell_type": "code",
   "execution_count": 82,
   "metadata": {},
   "outputs": [],
   "source": [
    "X_vect = vector.fit_transform(X).toarray()\n",
    "df_test = vector.transform(df_test['text']).toarray()\n",
    "pas_clf.fit(X_vect, y)\n",
    "pas_test_pred = pas_clf.predict(df_test)"
   ]
  },
  {
   "cell_type": "code",
   "execution_count": 83,
   "metadata": {},
   "outputs": [
    {
     "data": {
      "text/html": [
       "<div>\n",
       "<style scoped>\n",
       "    .dataframe tbody tr th:only-of-type {\n",
       "        vertical-align: middle;\n",
       "    }\n",
       "\n",
       "    .dataframe tbody tr th {\n",
       "        vertical-align: top;\n",
       "    }\n",
       "\n",
       "    .dataframe thead th {\n",
       "        text-align: right;\n",
       "    }\n",
       "</style>\n",
       "<table border=\"1\" class=\"dataframe\">\n",
       "  <thead>\n",
       "    <tr style=\"text-align: right;\">\n",
       "      <th></th>\n",
       "      <th>category</th>\n",
       "    </tr>\n",
       "  </thead>\n",
       "  <tbody>\n",
       "    <tr>\n",
       "      <th>0</th>\n",
       "      <td>0</td>\n",
       "    </tr>\n",
       "    <tr>\n",
       "      <th>1</th>\n",
       "      <td>0</td>\n",
       "    </tr>\n",
       "    <tr>\n",
       "      <th>2</th>\n",
       "      <td>0</td>\n",
       "    </tr>\n",
       "    <tr>\n",
       "      <th>3</th>\n",
       "      <td>1</td>\n",
       "    </tr>\n",
       "    <tr>\n",
       "      <th>4</th>\n",
       "      <td>0</td>\n",
       "    </tr>\n",
       "    <tr>\n",
       "      <th>...</th>\n",
       "      <td>...</td>\n",
       "    </tr>\n",
       "    <tr>\n",
       "      <th>861</th>\n",
       "      <td>0</td>\n",
       "    </tr>\n",
       "    <tr>\n",
       "      <th>862</th>\n",
       "      <td>0</td>\n",
       "    </tr>\n",
       "    <tr>\n",
       "      <th>863</th>\n",
       "      <td>0</td>\n",
       "    </tr>\n",
       "    <tr>\n",
       "      <th>864</th>\n",
       "      <td>0</td>\n",
       "    </tr>\n",
       "    <tr>\n",
       "      <th>865</th>\n",
       "      <td>0</td>\n",
       "    </tr>\n",
       "  </tbody>\n",
       "</table>\n",
       "<p>866 rows × 1 columns</p>\n",
       "</div>"
      ],
      "text/plain": [
       "     category\n",
       "0           0\n",
       "1           0\n",
       "2           0\n",
       "3           1\n",
       "4           0\n",
       "..        ...\n",
       "861         0\n",
       "862         0\n",
       "863         0\n",
       "864         0\n",
       "865         0\n",
       "\n",
       "[866 rows x 1 columns]"
      ]
     },
     "execution_count": 83,
     "metadata": {},
     "output_type": "execute_result"
    }
   ],
   "source": [
    "\n",
    "output = pd.DataFrame(data={\"category\":pas_test_pred})\n",
    "output"
   ]
  },
  {
   "cell_type": "code",
   "execution_count": 186,
   "metadata": {},
   "outputs": [],
   "source": [
    "output.to_csv('submission15.csv',index=False)"
   ]
  },
  {
   "cell_type": "code",
   "execution_count": null,
   "metadata": {},
   "outputs": [],
   "source": []
  },
  {
   "cell_type": "code",
   "execution_count": null,
   "metadata": {},
   "outputs": [],
   "source": []
  },
  {
   "cell_type": "code",
   "execution_count": null,
   "metadata": {},
   "outputs": [],
   "source": []
  },
  {
   "cell_type": "code",
   "execution_count": null,
   "metadata": {},
   "outputs": [],
   "source": []
  },
  {
   "cell_type": "code",
   "execution_count": null,
   "metadata": {},
   "outputs": [],
   "source": []
  }
 ],
 "metadata": {
  "kernelspec": {
   "display_name": "Python 3",
   "language": "python",
   "name": "python3"
  },
  "language_info": {
   "codemirror_mode": {
    "name": "ipython",
    "version": 3
   },
   "file_extension": ".py",
   "mimetype": "text/x-python",
   "name": "python",
   "nbconvert_exporter": "python",
   "pygments_lexer": "ipython3",
   "version": "3.8.5"
  }
 },
 "nbformat": 4,
 "nbformat_minor": 4
}
